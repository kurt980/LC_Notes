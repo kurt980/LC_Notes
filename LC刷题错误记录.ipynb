{
  "nbformat": 4,
  "nbformat_minor": 0,
  "metadata": {
    "colab": {
      "provenance": [],
      "authorship_tag": "ABX9TyN9XklZR/exQgri/035KQ4y",
      "include_colab_link": true
    },
    "kernelspec": {
      "name": "python3",
      "display_name": "Python 3"
    },
    "language_info": {
      "name": "python"
    }
  },
  "cells": [
    {
      "cell_type": "markdown",
      "metadata": {
        "id": "view-in-github",
        "colab_type": "text"
      },
      "source": [
        "<a href=\"https://colab.research.google.com/github/kurt980/LC_Notes/blob/main/LC%E5%88%B7%E9%A2%98%E9%94%99%E8%AF%AF%E8%AE%B0%E5%BD%95.ipynb\" target=\"_parent\"><img src=\"https://colab.research.google.com/assets/colab-badge.svg\" alt=\"Open In Colab\"/></a>"
      ]
    },
    {
      "cell_type": "code",
      "source": [],
      "metadata": {
        "id": "-HOLXyAAgtd-"
      },
      "execution_count": null,
      "outputs": []
    },
    {
      "cell_type": "markdown",
      "source": [
        "# **2023-01-03**\n",
        "\n",
        "**5. Longest Palindrome**\n",
        "1. edge case\n",
        "2. conditions have order"
      ],
      "metadata": {
        "id": "FiDlZqxZg0Tw"
      }
    },
    {
      "cell_type": "code",
      "source": [],
      "metadata": {
        "id": "4bwVPNorgthj"
      },
      "execution_count": null,
      "outputs": []
    },
    {
      "cell_type": "code",
      "source": [],
      "metadata": {
        "id": "UMIuUqFsgtk3"
      },
      "execution_count": null,
      "outputs": []
    },
    {
      "cell_type": "code",
      "source": [],
      "metadata": {
        "id": "Q1MjujPMgtnx"
      },
      "execution_count": null,
      "outputs": []
    },
    {
      "cell_type": "code",
      "source": [],
      "metadata": {
        "id": "SBpuVc1-gtqu"
      },
      "execution_count": null,
      "outputs": []
    },
    {
      "cell_type": "code",
      "source": [],
      "metadata": {
        "id": "jmG5hV26gttn"
      },
      "execution_count": null,
      "outputs": []
    },
    {
      "cell_type": "code",
      "source": [],
      "metadata": {
        "id": "Tin1WIHggtwa"
      },
      "execution_count": null,
      "outputs": []
    },
    {
      "cell_type": "code",
      "source": [],
      "metadata": {
        "id": "x08sL8B6gtza"
      },
      "execution_count": null,
      "outputs": []
    },
    {
      "cell_type": "code",
      "source": [],
      "metadata": {
        "id": "9nTY9V9kgt2S"
      },
      "execution_count": null,
      "outputs": []
    },
    {
      "cell_type": "code",
      "source": [],
      "metadata": {
        "id": "T6KODVgZgt5r"
      },
      "execution_count": null,
      "outputs": []
    },
    {
      "cell_type": "code",
      "source": [],
      "metadata": {
        "id": "SYsaHTTQgt8m"
      },
      "execution_count": null,
      "outputs": []
    },
    {
      "cell_type": "code",
      "source": [],
      "metadata": {
        "id": "ZTBCWwmogt_z"
      },
      "execution_count": null,
      "outputs": []
    },
    {
      "cell_type": "code",
      "source": [],
      "metadata": {
        "id": "dmFWvcVqguC7"
      },
      "execution_count": null,
      "outputs": []
    },
    {
      "cell_type": "code",
      "source": [],
      "metadata": {
        "id": "GSEXIsYRguGk"
      },
      "execution_count": null,
      "outputs": []
    },
    {
      "cell_type": "code",
      "source": [],
      "metadata": {
        "id": "05setd_qguJk"
      },
      "execution_count": null,
      "outputs": []
    },
    {
      "cell_type": "code",
      "source": [],
      "metadata": {
        "id": "mhQiaui7guMb"
      },
      "execution_count": null,
      "outputs": []
    },
    {
      "cell_type": "code",
      "source": [],
      "metadata": {
        "id": "Ln22Gr34guPb"
      },
      "execution_count": null,
      "outputs": []
    },
    {
      "cell_type": "code",
      "source": [],
      "metadata": {
        "id": "fUOA2ooyguSX"
      },
      "execution_count": null,
      "outputs": []
    },
    {
      "cell_type": "code",
      "source": [],
      "metadata": {
        "id": "5B2ygqARguVP"
      },
      "execution_count": null,
      "outputs": []
    },
    {
      "cell_type": "code",
      "source": [],
      "metadata": {
        "id": "KzAdupkwguYP"
      },
      "execution_count": null,
      "outputs": []
    },
    {
      "cell_type": "code",
      "source": [],
      "metadata": {
        "id": "3mK0spT6gubI"
      },
      "execution_count": null,
      "outputs": []
    },
    {
      "cell_type": "code",
      "source": [],
      "metadata": {
        "id": "F_cSh0jogueD"
      },
      "execution_count": null,
      "outputs": []
    },
    {
      "cell_type": "markdown",
      "source": [
        "# **2023-01-03**\n",
        "\n",
        "**5. Longest Palindrome**\n",
        "1. edge case\n",
        "2. conditions have order\n",
        "\n",
        "https://www.youtube.com/watch?v=dfIqLxAf-8s"
      ],
      "metadata": {
        "id": "tQ076qhWf2Yx"
      }
    },
    {
      "cell_type": "code",
      "execution_count": null,
      "metadata": {
        "id": "XpSZdaCvfz4r"
      },
      "outputs": [],
      "source": [
        "class Solution:\n",
        "    # # dp\n",
        "    # def longestPalindrome(self, s: str) -> str:\n",
        "\n",
        "    #     res = ''\n",
        "    #     dpMat = [[0] * len(s) for _ in range(len(s))]\n",
        "\n",
        "    #     for i in range(len(s)):\n",
        "    #         dpMat[i][i] = True\n",
        "    #         res = s[i]\n",
        "\n",
        "    #     # traverse\n",
        "    #     for i in range(len(s)-1,-1,-1):\n",
        "             \n",
        "    #          for j in range(i+1, len(s)):\n",
        "\n",
        "    #              if s[i] == s[j]:\n",
        "                    \n",
        "    #                 if j - i == 1 or dpMat[i+1][j-1] is True:\n",
        "    #                     dpMat[i][j] = True\n",
        "\n",
        "    #                     if len(s[i:j+1]) > len(res):\n",
        "    #                         res = s[i:j + 1]\n",
        "        \n",
        "    #     return res \n",
        "\n",
        "    # middle pointer\n",
        "    def longestPalindrome(self, s: str) -> str:\n",
        "\n",
        "        res = ''\n",
        "\n",
        "        for i in range(0, len(s)):\n",
        "            \n",
        "            l, r = i, i+1\n",
        "            while l >= 0 and r < len(s):\n",
        "                if s[l] != s[r]:\n",
        "                    break\n",
        "                if r - l + 1 > len(res):\n",
        "                    res = s[l: r+1]\n",
        "                l, r = l - 1, r + 1\n",
        "\n",
        "            l, r = i, i\n",
        "            while l >= 0 and r < len(s):\n",
        "                if s[l] != s[r]:\n",
        "                    break\n",
        "                if len(res) < r - l + 1:\n",
        "                    res = s[l : r + 1]\n",
        "\n",
        "                l -= 1\n",
        "                r += 1\n",
        "        \n",
        "        return res"
      ]
    },
    {
      "cell_type": "markdown",
      "source": [
        "# **2023-01-04**\n",
        "\n",
        "**200. Longest Palindrome**\n",
        "1. BFS is used to exhaust all neighboring points\n",
        "2. use of deque() and set()"
      ],
      "metadata": {
        "id": "XRwAwscxlDEO"
      }
    },
    {
      "cell_type": "code",
      "source": [
        "class Solution:\n",
        "    def numIslands(self, grid: List[List[str]]) -> int:\n",
        "        # mark all points in an island\n",
        "        def bfs(r,c):\n",
        "            q = deque()\n",
        "            q.append((r,c))\n",
        "            visited.add((r,c))\n",
        "\n",
        "            while q:\n",
        "                row, col = q.popleft()\n",
        "                dirs = [[1,0],[-1,0],[0,1],[0,-1]]\n",
        "\n",
        "                for hor, ver in dirs:\n",
        "                    r1 = row + hor\n",
        "                    c1 = col + ver\n",
        "                    if r1 in range(len(grid)) and c1 in range(len(grid[0])):\n",
        "                        if grid[r1][c1] == \"1\" and (r1,c1) not in visited:\n",
        "                            q.append((r1,c1))\n",
        "                            visited.add((r1,c1))\n",
        "\n",
        "\n",
        "        # initialize \n",
        "        res = 0\n",
        "        visited = set()\n",
        "\n",
        "        # search all points\n",
        "        for i in range(len(grid)):\n",
        "            for j in range(len(grid[0])):\n",
        "                # \n",
        "                if grid[i][j] == \"1\" and (i,j) not in visited:\n",
        "                    bfs(i,j)\n",
        "                    res += 1\n",
        "\n",
        "        return res"
      ],
      "metadata": {
        "id": "wTo-sTHFlDKi"
      },
      "execution_count": null,
      "outputs": []
    },
    {
      "cell_type": "markdown",
      "source": [
        "# **2023-01-04**\n",
        "\n",
        "**973. Longest Palindrome**\n",
        "1. heapque is sorted by first value if a list"
      ],
      "metadata": {
        "id": "OpASArsEGa_F"
      }
    },
    {
      "cell_type": "code",
      "source": [
        "class Solution:\n",
        "    def kClosest(self, points: List[List[int]], k: int) -> List[List[int]]:\n",
        "\n",
        "        for i in range(len(points)):\n",
        "            x,y = points[i]\n",
        "            dist = x**2 + y**2\n",
        "            points[i] = [dist, x, y]\n",
        "\n",
        "        # heapify\n",
        "        heapq.heapify(points)\n",
        "\n",
        "        res = []\n",
        "\n",
        "        for i in range(k):\n",
        "            dist, x, y = heapq.heappop(points)\n",
        "            res.append([x,y])\n",
        "\n",
        "        return res"
      ],
      "metadata": {
        "id": "9HaBrhn9GbGI"
      },
      "execution_count": null,
      "outputs": []
    },
    {
      "cell_type": "markdown",
      "source": [
        "# **2023-01-05**\n",
        "\n",
        "**79. Word Search**\n",
        "1. Fuck this shit"
      ],
      "metadata": {
        "id": "eB4ORq2w9G5f"
      }
    },
    {
      "cell_type": "code",
      "source": [
        "class Solution:\n",
        "    def exist(self, board: List[List[str]], word: str) -> bool:\n",
        "        rows = len(board)\n",
        "        cols = len(board[0])\n",
        "        visited = set()\n",
        "\n",
        "        # define dfs\n",
        "        def dfs(r,c,i):\n",
        "            # base case\n",
        "            if i == len(word):\n",
        "                return True\n",
        "\n",
        "            # termination conditions\n",
        "            if (r not in range(0, rows) or\n",
        "                c not in range(0, cols) or\n",
        "                i >= len(word) or\n",
        "                board[r][c] != word[i] or\n",
        "                (r,c) in visited\n",
        "                ):\n",
        "                return False\n",
        "            # current is good\n",
        "            visited.add((r,c))\n",
        "\n",
        "            res = (dfs(r + 1, c, i + 1) or\n",
        "                   dfs(r - 1, c, i + 1) or\n",
        "                   dfs(r, c + 1, i + 1) or\n",
        "                   dfs(r, c - 1, i + 1))\n",
        "            \n",
        "            visited.remove((r,c))\n",
        "\n",
        "            return res\n",
        "\n",
        "\n",
        "        # loop through all points\n",
        "        for r in range(rows):\n",
        "            for c in range(cols):\n",
        "                # return any successful attempt\n",
        "                if dfs(r,c,0): return True\n",
        "\n",
        "        return False"
      ],
      "metadata": {
        "id": "Z8y5QfcS9HB3"
      },
      "execution_count": null,
      "outputs": []
    }
  ]
}