{
  "nbformat": 4,
  "nbformat_minor": 0,
  "metadata": {
    "colab": {
      "provenance": [],
      "authorship_tag": "ABX9TyP6ky3bihRBqeS1yHVNzlk+",
      "include_colab_link": true
    },
    "kernelspec": {
      "name": "python3",
      "display_name": "Python 3"
    },
    "language_info": {
      "name": "python"
    }
  },
  "cells": [
    {
      "cell_type": "markdown",
      "metadata": {
        "id": "view-in-github",
        "colab_type": "text"
      },
      "source": [
        "<a href=\"https://colab.research.google.com/github/kurt980/LC_Notes/blob/main/LC%E5%88%B7%E9%A2%98%E9%94%99%E8%AF%AF%E8%AE%B0%E5%BD%95.ipynb\" target=\"_parent\"><img src=\"https://colab.research.google.com/assets/colab-badge.svg\" alt=\"Open In Colab\"/></a>"
      ]
    },
    {
      "cell_type": "markdown",
      "source": [
        "# **2023-01-03**\n",
        "\n",
        "**5. Longest Palindrome**\n",
        "1. edge case\n",
        "2. conditions have order"
      ],
      "metadata": {
        "id": "tQ076qhWf2Yx"
      }
    },
    {
      "cell_type": "code",
      "execution_count": null,
      "metadata": {
        "id": "XpSZdaCvfz4r"
      },
      "outputs": [],
      "source": [
        "class Solution:\n",
        "    # # dp\n",
        "    # def longestPalindrome(self, s: str) -> str:\n",
        "\n",
        "    #     res = ''\n",
        "    #     dpMat = [[0] * len(s) for _ in range(len(s))]\n",
        "\n",
        "    #     for i in range(len(s)):\n",
        "    #         dpMat[i][i] = True\n",
        "    #         res = s[i]\n",
        "\n",
        "    #     # traverse\n",
        "    #     for i in range(len(s)-1,-1,-1):\n",
        "             \n",
        "    #          for j in range(i+1, len(s)):\n",
        "\n",
        "    #              if s[i] == s[j]:\n",
        "                    \n",
        "    #                 if j - i == 1 or dpMat[i+1][j-1] is True:\n",
        "    #                     dpMat[i][j] = True\n",
        "\n",
        "    #                     if len(s[i:j+1]) > len(res):\n",
        "    #                         res = s[i:j + 1]\n",
        "        \n",
        "    #     return res \n",
        "\n",
        "    # middle pointer\n",
        "    def longestPalindrome(self, s: str) -> str:\n",
        "\n",
        "        res = ''\n",
        "\n",
        "        for i in range(0, len(s)):\n",
        "            \n",
        "            l, r = i, i+1\n",
        "            while l >= 0 and r < len(s):\n",
        "                if s[l] != s[r]:\n",
        "                    break\n",
        "                if r - l + 1 > len(res):\n",
        "                    res = s[l: r+1]\n",
        "                l, r = l - 1, r + 1\n",
        "\n",
        "            l, r = i, i\n",
        "            while l >= 0 and r < len(s):\n",
        "                if s[l] != s[r]:\n",
        "                    break\n",
        "                if len(res) < r - l + 1:\n",
        "                    res = s[l : r + 1]\n",
        "\n",
        "                l -= 1\n",
        "                r += 1\n",
        "        \n",
        "        return res"
      ]
    }
  ]
}