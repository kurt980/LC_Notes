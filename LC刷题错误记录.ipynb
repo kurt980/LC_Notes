{
  "nbformat": 4,
  "nbformat_minor": 0,
  "metadata": {
    "colab": {
      "provenance": [],
      "authorship_tag": "ABX9TyNhwdjmh8s4WiRBSXN+3y45",
      "include_colab_link": true
    },
    "kernelspec": {
      "name": "python3",
      "display_name": "Python 3"
    },
    "language_info": {
      "name": "python"
    }
  },
  "cells": [
    {
      "cell_type": "markdown",
      "metadata": {
        "id": "view-in-github",
        "colab_type": "text"
      },
      "source": [
        "<a href=\"https://colab.research.google.com/github/kurt980/LC_Notes/blob/main/LC%E5%88%B7%E9%A2%98%E9%94%99%E8%AF%AF%E8%AE%B0%E5%BD%95.ipynb\" target=\"_parent\"><img src=\"https://colab.research.google.com/assets/colab-badge.svg\" alt=\"Open In Colab\"/></a>"
      ]
    },
    {
      "cell_type": "code",
      "source": [],
      "metadata": {
        "id": "-HOLXyAAgtd-"
      },
      "execution_count": null,
      "outputs": []
    },
    {
      "cell_type": "markdown",
      "source": [
        "# **2023-01-03**\n",
        "\n",
        "**5. Longest Palindrome**\n",
        "1. edge case\n",
        "2. conditions have order"
      ],
      "metadata": {
        "id": "FiDlZqxZg0Tw"
      }
    },
    {
      "cell_type": "code",
      "source": [],
      "metadata": {
        "id": "4bwVPNorgthj"
      },
      "execution_count": null,
      "outputs": []
    },
    {
      "cell_type": "code",
      "source": [],
      "metadata": {
        "id": "UMIuUqFsgtk3"
      },
      "execution_count": null,
      "outputs": []
    },
    {
      "cell_type": "code",
      "source": [],
      "metadata": {
        "id": "Q1MjujPMgtnx"
      },
      "execution_count": null,
      "outputs": []
    },
    {
      "cell_type": "code",
      "source": [],
      "metadata": {
        "id": "SBpuVc1-gtqu"
      },
      "execution_count": null,
      "outputs": []
    },
    {
      "cell_type": "code",
      "source": [],
      "metadata": {
        "id": "jmG5hV26gttn"
      },
      "execution_count": null,
      "outputs": []
    },
    {
      "cell_type": "code",
      "source": [],
      "metadata": {
        "id": "Tin1WIHggtwa"
      },
      "execution_count": null,
      "outputs": []
    },
    {
      "cell_type": "code",
      "source": [],
      "metadata": {
        "id": "x08sL8B6gtza"
      },
      "execution_count": null,
      "outputs": []
    },
    {
      "cell_type": "code",
      "source": [],
      "metadata": {
        "id": "9nTY9V9kgt2S"
      },
      "execution_count": null,
      "outputs": []
    },
    {
      "cell_type": "code",
      "source": [],
      "metadata": {
        "id": "T6KODVgZgt5r"
      },
      "execution_count": null,
      "outputs": []
    },
    {
      "cell_type": "code",
      "source": [],
      "metadata": {
        "id": "SYsaHTTQgt8m"
      },
      "execution_count": null,
      "outputs": []
    },
    {
      "cell_type": "code",
      "source": [],
      "metadata": {
        "id": "ZTBCWwmogt_z"
      },
      "execution_count": null,
      "outputs": []
    },
    {
      "cell_type": "code",
      "source": [],
      "metadata": {
        "id": "dmFWvcVqguC7"
      },
      "execution_count": null,
      "outputs": []
    },
    {
      "cell_type": "code",
      "source": [],
      "metadata": {
        "id": "GSEXIsYRguGk"
      },
      "execution_count": null,
      "outputs": []
    },
    {
      "cell_type": "code",
      "source": [],
      "metadata": {
        "id": "05setd_qguJk"
      },
      "execution_count": null,
      "outputs": []
    },
    {
      "cell_type": "code",
      "source": [],
      "metadata": {
        "id": "mhQiaui7guMb"
      },
      "execution_count": null,
      "outputs": []
    },
    {
      "cell_type": "code",
      "source": [],
      "metadata": {
        "id": "Ln22Gr34guPb"
      },
      "execution_count": null,
      "outputs": []
    },
    {
      "cell_type": "code",
      "source": [],
      "metadata": {
        "id": "fUOA2ooyguSX"
      },
      "execution_count": null,
      "outputs": []
    },
    {
      "cell_type": "code",
      "source": [],
      "metadata": {
        "id": "5B2ygqARguVP"
      },
      "execution_count": null,
      "outputs": []
    },
    {
      "cell_type": "code",
      "source": [],
      "metadata": {
        "id": "KzAdupkwguYP"
      },
      "execution_count": null,
      "outputs": []
    },
    {
      "cell_type": "code",
      "source": [],
      "metadata": {
        "id": "3mK0spT6gubI"
      },
      "execution_count": null,
      "outputs": []
    },
    {
      "cell_type": "code",
      "source": [],
      "metadata": {
        "id": "F_cSh0jogueD"
      },
      "execution_count": null,
      "outputs": []
    },
    {
      "cell_type": "markdown",
      "source": [
        "# **2023-01-03**\n",
        "\n",
        "**5. Longest Palindrome**\n",
        "1. edge case\n",
        "2. conditions have order\n",
        "\n",
        "https://www.youtube.com/watch?v=dfIqLxAf-8s"
      ],
      "metadata": {
        "id": "tQ076qhWf2Yx"
      }
    },
    {
      "cell_type": "code",
      "execution_count": null,
      "metadata": {
        "id": "XpSZdaCvfz4r"
      },
      "outputs": [],
      "source": [
        "class Solution:\n",
        "    # # dp\n",
        "    # def longestPalindrome(self, s: str) -> str:\n",
        "\n",
        "    #     res = ''\n",
        "    #     dpMat = [[0] * len(s) for _ in range(len(s))]\n",
        "\n",
        "    #     for i in range(len(s)):\n",
        "    #         dpMat[i][i] = True\n",
        "    #         res = s[i]\n",
        "\n",
        "    #     # traverse\n",
        "    #     for i in range(len(s)-1,-1,-1):\n",
        "             \n",
        "    #          for j in range(i+1, len(s)):\n",
        "\n",
        "    #              if s[i] == s[j]:\n",
        "                    \n",
        "    #                 if j - i == 1 or dpMat[i+1][j-1] is True:\n",
        "    #                     dpMat[i][j] = True\n",
        "\n",
        "    #                     if len(s[i:j+1]) > len(res):\n",
        "    #                         res = s[i:j + 1]\n",
        "        \n",
        "    #     return res \n",
        "\n",
        "    # middle pointer\n",
        "    def longestPalindrome(self, s: str) -> str:\n",
        "\n",
        "        res = ''\n",
        "\n",
        "        for i in range(0, len(s)):\n",
        "            \n",
        "            l, r = i, i+1\n",
        "            while l >= 0 and r < len(s):\n",
        "                if s[l] != s[r]:\n",
        "                    break\n",
        "                if r - l + 1 > len(res):\n",
        "                    res = s[l: r+1]\n",
        "                l, r = l - 1, r + 1\n",
        "\n",
        "            l, r = i, i\n",
        "            while l >= 0 and r < len(s):\n",
        "                if s[l] != s[r]:\n",
        "                    break\n",
        "                if len(res) < r - l + 1:\n",
        "                    res = s[l : r + 1]\n",
        "\n",
        "                l -= 1\n",
        "                r += 1\n",
        "        \n",
        "        return res"
      ]
    },
    {
      "cell_type": "markdown",
      "source": [
        "# **2023-01-04**\n",
        "\n",
        "**200. Longest Palindrome**\n",
        "1. BFS is used to exhaust all neighboring points\n",
        "2. use of deque() and set()"
      ],
      "metadata": {
        "id": "XRwAwscxlDEO"
      }
    },
    {
      "cell_type": "code",
      "source": [
        "class Solution:\n",
        "    def numIslands(self, grid: List[List[str]]) -> int:\n",
        "        # mark all points in an island\n",
        "        def bfs(r,c):\n",
        "            q = deque()\n",
        "            q.append((r,c))\n",
        "            visited.add((r,c))\n",
        "\n",
        "            while q:\n",
        "                row, col = q.popleft()\n",
        "                dirs = [[1,0],[-1,0],[0,1],[0,-1]]\n",
        "\n",
        "                for hor, ver in dirs:\n",
        "                    r1 = row + hor\n",
        "                    c1 = col + ver\n",
        "                    if r1 in range(len(grid)) and c1 in range(len(grid[0])):\n",
        "                        if grid[r1][c1] == \"1\" and (r1,c1) not in visited:\n",
        "                            q.append((r1,c1))\n",
        "                            visited.add((r1,c1))\n",
        "\n",
        "\n",
        "        # initialize \n",
        "        res = 0\n",
        "        visited = set()\n",
        "\n",
        "        # search all points\n",
        "        for i in range(len(grid)):\n",
        "            for j in range(len(grid[0])):\n",
        "                # \n",
        "                if grid[i][j] == \"1\" and (i,j) not in visited:\n",
        "                    bfs(i,j)\n",
        "                    res += 1\n",
        "\n",
        "        return res"
      ],
      "metadata": {
        "id": "wTo-sTHFlDKi"
      },
      "execution_count": null,
      "outputs": []
    },
    {
      "cell_type": "markdown",
      "source": [
        "**973. Longest Palindrome**\n",
        "1. heapque is sorted by first value if a list"
      ],
      "metadata": {
        "id": "OpASArsEGa_F"
      }
    },
    {
      "cell_type": "code",
      "source": [
        "class Solution:\n",
        "    def kClosest(self, points: List[List[int]], k: int) -> List[List[int]]:\n",
        "\n",
        "        for i in range(len(points)):\n",
        "            x,y = points[i]\n",
        "            dist = x**2 + y**2\n",
        "            points[i] = [dist, x, y]\n",
        "\n",
        "        # heapify\n",
        "        heapq.heapify(points)\n",
        "\n",
        "        res = []\n",
        "\n",
        "        for i in range(k):\n",
        "            dist, x, y = heapq.heappop(points)\n",
        "            res.append([x,y])\n",
        "\n",
        "        return res"
      ],
      "metadata": {
        "id": "9HaBrhn9GbGI"
      },
      "execution_count": null,
      "outputs": []
    },
    {
      "cell_type": "markdown",
      "source": [
        "# **2023-01-05**\n",
        "\n",
        "**79. Word Search**\n",
        "1. Fuck this shit"
      ],
      "metadata": {
        "id": "eB4ORq2w9G5f"
      }
    },
    {
      "cell_type": "code",
      "source": [
        "class Solution:\n",
        "    def exist(self, board: List[List[str]], word: str) -> bool:\n",
        "        rows = len(board)\n",
        "        cols = len(board[0])\n",
        "        visited = set()\n",
        "\n",
        "        # define dfs\n",
        "        def dfs(r,c,i):\n",
        "            # base case\n",
        "            if i == len(word):\n",
        "                return True\n",
        "\n",
        "            # termination conditions\n",
        "            if (r not in range(0, rows) or\n",
        "                c not in range(0, cols) or\n",
        "                i >= len(word) or\n",
        "                board[r][c] != word[i] or\n",
        "                (r,c) in visited\n",
        "                ):\n",
        "                return False\n",
        "            # current is good\n",
        "            visited.add((r,c))\n",
        "\n",
        "            res = (dfs(r + 1, c, i + 1) or\n",
        "                   dfs(r - 1, c, i + 1) or\n",
        "                   dfs(r, c + 1, i + 1) or\n",
        "                   dfs(r, c - 1, i + 1))\n",
        "            \n",
        "            visited.remove((r,c))\n",
        "\n",
        "            return res\n",
        "\n",
        "\n",
        "        # loop through all points\n",
        "        for r in range(rows):\n",
        "            for c in range(cols):\n",
        "                # return any successful attempt\n",
        "                if dfs(r,c,0): return True\n",
        "\n",
        "        return False"
      ],
      "metadata": {
        "id": "Z8y5QfcS9HB3"
      },
      "execution_count": null,
      "outputs": []
    },
    {
      "cell_type": "markdown",
      "source": [
        "**621. Task Scheduler**\n",
        "1. I have no fucking idea, just memorize this shit"
      ],
      "metadata": {
        "id": "bGUH6dI4uqde"
      }
    },
    {
      "cell_type": "code",
      "source": [
        "class Solution:\n",
        "    def leastInterval(self, tasks: List[str], n: int) -> int:\n",
        "        # I have no fucking idea how this works, just memorize it.\n",
        "        tasks.sort()\n",
        "\n",
        "        # get frequency table\n",
        "        freq = []\n",
        "        count = 0\n",
        "        prev = ''\n",
        "        for t in tasks:\n",
        "            if t == prev:\n",
        "                pass\n",
        "            else:\n",
        "                freq.append(tasks.count(t))\n",
        "                prev = t\n",
        "\n",
        "        # reverse it\n",
        "        tasks1 = [-f for f in freq]\n",
        "        heapq.heapify(tasks1)\n",
        "\n",
        "        # starts this shit\n",
        "        q = deque()\n",
        "        time = 0\n",
        "        while tasks1 or q:\n",
        "            time += 1\n",
        "            # \n",
        "            if tasks1:\n",
        "\n",
        "                task = heapq.heappop(tasks1)\n",
        "\n",
        "                if task != -1:\n",
        "                    q.append([task + 1, time + n])\n",
        "\n",
        "            if q and q[0][1] == time:\n",
        "                heapq.heappush(tasks1, q[0][0])\n",
        "                q.popleft()\n",
        "            \n",
        "\n",
        "        return time\n",
        "        "
      ],
      "metadata": {
        "id": "oHcuDppouqk-"
      },
      "execution_count": null,
      "outputs": []
    },
    {
      "cell_type": "markdown",
      "source": [
        "**78. Subsets**\n",
        "1. Classic algorithm, need to memorize"
      ],
      "metadata": {
        "id": "P9dF1_M1KzEd"
      }
    },
    {
      "cell_type": "code",
      "source": [
        "class Solution:\n",
        "    def subsets(self, nums: List[int]) -> List[List[int]]:\n",
        "        res = []\n",
        "        subset = []\n",
        "\n",
        "        def dfs(i):\n",
        "            if i >= len(nums):\n",
        "                res.append(subset.copy())\n",
        "                return\n",
        "            # include\n",
        "            subset.append(nums[i])\n",
        "            dfs(i + 1)\n",
        "\n",
        "            # exclude\n",
        "            subset.pop()\n",
        "            dfs(i + 1)\n",
        "\n",
        "        dfs(0)\n",
        "\n",
        "        return res\n"
      ],
      "metadata": {
        "id": "h5seGrvvKzUp"
      },
      "execution_count": null,
      "outputs": []
    },
    {
      "cell_type": "markdown",
      "source": [
        "**90. Subsets II**\n",
        "1. This is fucking miserable, fuck it"
      ],
      "metadata": {
        "id": "aw42y_unLDRl"
      }
    },
    {
      "cell_type": "code",
      "source": [
        "class Solution:\n",
        "    def subsetsWithDup(self, nums: List[int]) -> List[List[int]]:\n",
        "        nums.sort()\n",
        "        res = []\n",
        "        subset = []\n",
        "        visited = set()\n",
        "\n",
        "        def dfs(i):\n",
        "            print(i)\n",
        "            \n",
        "            if i == len(nums):\n",
        "                res.append(subset.copy())\n",
        "                return\n",
        "\n",
        "            if i < len(nums) and nums[i] not in visited:\n",
        "                visited.add(nums[i])\n",
        "            print(visited)\n",
        "            # include\n",
        "            subset.append(nums[i])\n",
        "            dfs(i + 1)\n",
        "            subset.pop()\n",
        "\n",
        "            # exclude\n",
        "            while i < len(nums) - 1 and nums[i] == nums[i + 1]:\n",
        "                i += 1\n",
        "            \n",
        "            dfs(i + 1)\n",
        "\n",
        "        dfs(0)\n",
        "\n",
        "        return res\n"
      ],
      "metadata": {
        "id": "gNYsIl28LDYQ"
      },
      "execution_count": null,
      "outputs": []
    },
    {
      "cell_type": "markdown",
      "source": [
        "# **2023-01-06**\n",
        "\n",
        "**133. Clone Graph**\n",
        "1. Good algo, very tricky"
      ],
      "metadata": {
        "id": "jYptsAsb0wA_"
      }
    },
    {
      "cell_type": "code",
      "source": [
        "\"\"\"\n",
        "# Definition for a Node.\n",
        "class Node:\n",
        "    def __init__(self, val = 0, neighbors = None):\n",
        "        self.val = val\n",
        "        self.neighbors = neighbors if neighbors is not None else []\n",
        "\"\"\"\n",
        "\n",
        "class Solution:\n",
        "    def cloneGraph(self, node: 'Node') -> 'Node':\n",
        "        mapping = {}\n",
        "\n",
        "        def dfs(node):\n",
        "\n",
        "            if node in mapping:\n",
        "                return mapping[node]\n",
        "\n",
        "            copy = Node(node.val)\n",
        "            mapping[node] = copy\n",
        "\n",
        "            for nei in node.neighbors:\n",
        "                temp = dfs(nei)\n",
        "                copy.neighbors.append(temp)\n",
        "\n",
        "            return copy\n",
        "\n",
        "\n",
        "        return dfs(node) if node else None"
      ],
      "metadata": {
        "id": "TD2i96ZA0wIM"
      },
      "execution_count": null,
      "outputs": []
    }
  ]
}