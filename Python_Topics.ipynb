{
  "nbformat": 4,
  "nbformat_minor": 0,
  "metadata": {
    "colab": {
      "provenance": [],
      "collapsed_sections": [],
      "authorship_tag": "ABX9TyOVkm+QeXsbjTbILpivZiVa",
      "include_colab_link": true
    },
    "kernelspec": {
      "name": "python3",
      "display_name": "Python 3"
    },
    "language_info": {
      "name": "python"
    }
  },
  "cells": [
    {
      "cell_type": "markdown",
      "metadata": {
        "id": "view-in-github",
        "colab_type": "text"
      },
      "source": [
        "<a href=\"https://colab.research.google.com/github/kurt980/LC_Notes/blob/main/Python_Topics.ipynb\" target=\"_parent\"><img src=\"https://colab.research.google.com/assets/colab-badge.svg\" alt=\"Open In Colab\"/></a>"
      ]
    },
    {
      "cell_type": "markdown",
      "source": [
        "Decorators"
      ],
      "metadata": {
        "id": "zSN-s1sOzdBB"
      }
    },
    {
      "cell_type": "markdown",
      "source": [
        "*args and **kwargs\n"
      ],
      "metadata": {
        "id": "mg80B-zlzl7h"
      }
    },
    {
      "cell_type": "code",
      "execution_count": 1,
      "metadata": {
        "colab": {
          "base_uri": "https://localhost:8080/"
        },
        "id": "OiqXWCiezQIw",
        "outputId": "979465ba-9992-4540-becf-0a3aeb2dfd20"
      },
      "outputs": [
        {
          "output_type": "stream",
          "name": "stdout",
          "text": [
            " foo( 1 2 3 )\n",
            "inside_foo\n",
            " outside\n",
            "inside_inside_foo( 4 5 6 )\n",
            "15\n"
          ]
        }
      ],
      "source": [
        "def foo(*args):\n",
        "  print(' foo(', *args, ')')\n",
        "\n",
        "  def inside_foo(x):\n",
        "    print('inside_foo')\n",
        "\n",
        "    def inside_inside_foo(*args):\n",
        "      print('inside_inside_foo(', *args, ')')\n",
        "      return x(*args)\n",
        "\n",
        "    return inside_inside_foo\n",
        "  return inside_foo\n",
        "\n",
        "@foo(1,2,3)\n",
        "def bar(*args):\n",
        "  return sum(args)\n",
        "\n",
        "print(' outside')\n",
        "print(bar(4,5,6))"
      ]
    },
    {
      "cell_type": "code",
      "source": [
        "x = bar(1,2,3)"
      ],
      "metadata": {
        "colab": {
          "base_uri": "https://localhost:8080/"
        },
        "id": "ASPjZV7c35mj",
        "outputId": "ccf2257a-a2e5-4a24-a8d7-cda7758fc4d6"
      },
      "execution_count": 3,
      "outputs": [
        {
          "output_type": "stream",
          "name": "stdout",
          "text": [
            "inside_inside_foo( 1 2 3 )\n"
          ]
        }
      ]
    },
    {
      "cell_type": "code",
      "source": [
        "a = [12,2131,54,2,2]"
      ],
      "metadata": {
        "id": "yMGc2jEORR8j"
      },
      "execution_count": 3,
      "outputs": []
    },
    {
      "cell_type": "code",
      "source": [
        "from typing import List"
      ],
      "metadata": {
        "id": "zRtJ4pmAT2bp"
      },
      "execution_count": 8,
      "outputs": []
    },
    {
      "cell_type": "code",
      "source": [
        "class Solution:\n",
        "    def threeSum(self, nums: List[int]) -> List[List[int]]:\n",
        "        res = []\n",
        "        nums.sort()\n",
        "\n",
        "        for i, a in enumerate(nums):\n",
        "            if i > 0 and a == nums[i - 1]:\n",
        "                continue\n",
        "\n",
        "            l, r = i + 1, len(nums) - 1\n",
        "            while l < r:\n",
        "                threeSum = a + nums[l] + nums[r]\n",
        "                if threeSum > 0:\n",
        "                    r -= 1\n",
        "                elif threeSum < 0:\n",
        "                    l += 1\n",
        "                else:\n",
        "                    res.append([a, nums[l], nums[r]])\n",
        "                    l += 1\n",
        "                    while nums[l] == nums[l - 1] and l < r:\n",
        "                        l += 1\n",
        "        return res"
      ],
      "metadata": {
        "id": "AS3XTnri7VhX"
      },
      "execution_count": 9,
      "outputs": []
    },
    {
      "cell_type": "code",
      "source": [
        "a = Solution()"
      ],
      "metadata": {
        "id": "1VKB9ISfT5JO"
      },
      "execution_count": 10,
      "outputs": []
    },
    {
      "cell_type": "code",
      "source": [
        "a.threeSum([-2,1,1])"
      ],
      "metadata": {
        "colab": {
          "base_uri": "https://localhost:8080/"
        },
        "id": "itN_gC5QT-R5",
        "outputId": "272b0aa7-e476-4bb7-c4a3-583585ed56da"
      },
      "execution_count": 11,
      "outputs": [
        {
          "output_type": "execute_result",
          "data": {
            "text/plain": [
              "[[-2, 1, 1]]"
            ]
          },
          "metadata": {},
          "execution_count": 11
        }
      ]
    },
    {
      "cell_type": "code",
      "source": [
        "class Solution:\n",
        "    def threeSumClosest(self, nums: List[int], target: int) -> int:\n",
        "        \n",
        "        nums.sort()\n",
        "        \n",
        "        res = sum(nums[-3:len(nums)])\n",
        "        \n",
        "        for i in range(len(nums) - 2):\n",
        "            \n",
        "            l,r = i+1,len(nums)-1\n",
        "\n",
        "            while l < r:\n",
        "\n",
        "                temp = nums[i] + nums[l] + nums[r]\n",
        "\n",
        "                if abs(temp - target) < abs(res - target):\n",
        "                    res = temp\n",
        "\n",
        "                if temp > target:\n",
        "                    r -= 1\n",
        "\n",
        "                elif temp < target:\n",
        "                    l += 1\n",
        "                else:\n",
        "                    return temp\n",
        "            \n",
        "        return res"
      ],
      "metadata": {
        "id": "Av0GQrPXpQu4"
      },
      "execution_count": 18,
      "outputs": []
    },
    {
      "cell_type": "code",
      "source": [
        "a = Solution()"
      ],
      "metadata": {
        "id": "K1Ov2WfTpT8F"
      },
      "execution_count": 19,
      "outputs": []
    },
    {
      "cell_type": "code",
      "source": [
        "a.threeSumClosest([4,0,5,-5,3,3,0,-4,-5],-2)"
      ],
      "metadata": {
        "colab": {
          "base_uri": "https://localhost:8080/"
        },
        "id": "5wq7mq1Zpd-E",
        "outputId": "8c7009b0-72d4-4395-d8dd-00ed4e096aff"
      },
      "execution_count": 20,
      "outputs": [
        {
          "output_type": "stream",
          "name": "stdout",
          "text": [
            "12\n"
          ]
        },
        {
          "output_type": "execute_result",
          "data": {
            "text/plain": [
              "-2"
            ]
          },
          "metadata": {},
          "execution_count": 20
        }
      ]
    }
  ]
}