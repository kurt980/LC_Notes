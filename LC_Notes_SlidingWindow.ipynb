{
  "nbformat": 4,
  "nbformat_minor": 0,
  "metadata": {
    "colab": {
      "provenance": [],
      "authorship_tag": "ABX9TyOG47u+PjBOwzvZoTPEfOoN",
      "include_colab_link": true
    },
    "kernelspec": {
      "name": "python3",
      "display_name": "Python 3"
    },
    "language_info": {
      "name": "python"
    }
  },
  "cells": [
    {
      "cell_type": "markdown",
      "metadata": {
        "id": "view-in-github",
        "colab_type": "text"
      },
      "source": [
        "<a href=\"https://colab.research.google.com/github/kurt980/LC_Notes/blob/main/LC_Notes_SlidingWindow.ipynb\" target=\"_parent\"><img src=\"https://colab.research.google.com/assets/colab-badge.svg\" alt=\"Open In Colab\"/></a>"
      ]
    },
    {
      "cell_type": "markdown",
      "source": [
        "424. Longest Repeating Character Replacement"
      ],
      "metadata": {
        "id": "rN4FifADkG9w"
      }
    },
    {
      "cell_type": "code",
      "source": [
        "class Solution:\n",
        "    def characterReplacement(self, s: str, k: int) -> int:\n",
        "        \n",
        "        l,r = 0,0\n",
        "        maxf = 0\n",
        "        res = 0\n",
        "        freq = {}\n",
        "        \n",
        "        for r in range(len(s)):\n",
        "\n",
        "            freq[s[r]] = freq.get(s[r],0) + 1\n",
        "            # get max frequency\n",
        "            maxf = max(freq.values())\n",
        "\n",
        "            print('maxf', maxf)\n",
        "            print('current', l, r)\n",
        "            print('valid?', r-l+1, maxf, r - l + 1 - maxf <= k)\n",
        "            \n",
        "            # not valid window\n",
        "            while ((r - l + 1) - maxf > k):\n",
        "                freq[s[l]] = freq.get(s[l],0) - 1\n",
        "                l += 1\n",
        "                maxf = max(freq.values())\n",
        "                print('maxf after shrink', maxf)\n",
        "\n",
        "            res = max(res, r - l + 1)  \n",
        "            print('res',res)\n",
        "            print('')\n",
        "\n",
        "        return res"
      ],
      "metadata": {
        "id": "ikRmlpCfkIxm"
      },
      "execution_count": null,
      "outputs": []
    },
    {
      "cell_type": "markdown",
      "source": [],
      "metadata": {
        "id": "4QIubnjNkMHF"
      }
    },
    {
      "cell_type": "code",
      "source": [],
      "metadata": {
        "id": "lg7UmZzMkI0A"
      },
      "execution_count": null,
      "outputs": []
    },
    {
      "cell_type": "code",
      "source": [],
      "metadata": {
        "id": "XO8laEICkI2Y"
      },
      "execution_count": null,
      "outputs": []
    }
  ]
}